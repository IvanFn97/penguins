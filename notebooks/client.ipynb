{
 "cells": [
  {
   "cell_type": "code",
   "execution_count": 81,
   "metadata": {},
   "outputs": [
    {
     "name": "stdout",
     "output_type": "stream",
     "text": [
      "{\n",
      "  \"penguin\": \"Adelie\",\n",
      "  \"probabilitat\": 0.9997088316709347\n",
      "}\n"
     ]
    }
   ],
   "source": [
    "!curl --request POST \"http://127.0.0.1:8000/predict_lr\" \\\n",
    "--header \"Content-Type: application/json\" \\\n",
    "--data-raw \"{\\\n",
    "    \\\"island\\\": \\\"Dream\\\",\\\n",
    "    \\\"bill_length_mm\\\": 39,\\\n",
    "    \\\"bill_depth_mm\\\": 17,\\\n",
    "    \\\"flipper_length_mm\\\": 180,\\\n",
    "    \\\"body_mass_g\\\": 3600,\\\n",
    "    \\\"sex\\\": \\\"Male\\\"\\\n",
    "}\" "
   ]
  },
  {
   "cell_type": "code",
   "execution_count": 82,
   "metadata": {},
   "outputs": [
    {
     "name": "stdout",
     "output_type": "stream",
     "text": [
      "{\n",
      "  \"penguin\": \"Adelie\",\n",
      "  \"probabilitat\": 0.9923178175262237\n",
      "}\n"
     ]
    }
   ],
   "source": [
    "!curl --request POST \"http://127.0.0.1:8000/predict_svm\" \\\n",
    "--header \"Content-Type: application/json\" \\\n",
    "--data-raw \"{\\\n",
    "    \\\"island\\\": \\\"Dream\\\",\\\n",
    "    \\\"bill_length_mm\\\": 39,\\\n",
    "    \\\"bill_depth_mm\\\": 17,\\\n",
    "    \\\"flipper_length_mm\\\": 180,\\\n",
    "    \\\"body_mass_g\\\": 3600,\\\n",
    "    \\\"sex\\\": \\\"Male\\\"\\\n",
    "}\" "
   ]
  },
  {
   "cell_type": "code",
   "execution_count": 83,
   "metadata": {},
   "outputs": [
    {
     "name": "stdout",
     "output_type": "stream",
     "text": [
      "{\n",
      "  \"penguin\": \"Adelie\",\n",
      "  \"probabilitat\": 1.0\n",
      "}\n"
     ]
    }
   ],
   "source": [
    "!curl --request POST \"http://127.0.0.1:8000/predict_dt\" \\\n",
    "--header \"Content-Type: application/json\" \\\n",
    "--data-raw \"{\\\n",
    "    \\\"island\\\": \\\"Dream\\\",\\\n",
    "    \\\"bill_length_mm\\\": 39,\\\n",
    "    \\\"bill_depth_mm\\\": 17,\\\n",
    "    \\\"flipper_length_mm\\\": 180,\\\n",
    "    \\\"body_mass_g\\\": 3600,\\\n",
    "    \\\"sex\\\": \\\"Male\\\"\\\n",
    "}\" "
   ]
  },
  {
   "cell_type": "code",
   "execution_count": 84,
   "metadata": {},
   "outputs": [
    {
     "name": "stdout",
     "output_type": "stream",
     "text": [
      "{\n",
      "  \"penguin\": \"Adelie\",\n",
      "  \"probabilitat\": 1.0\n",
      "}\n"
     ]
    }
   ],
   "source": [
    "!curl --request POST \"http://127.0.0.1:8000/predict_knn\" \\\n",
    "--header \"Content-Type: application/json\" \\\n",
    "--data-raw \"{\\\n",
    "    \\\"island\\\": \\\"Dream\\\",\\\n",
    "    \\\"bill_length_mm\\\": 39,\\\n",
    "    \\\"bill_depth_mm\\\": 17,\\\n",
    "    \\\"flipper_length_mm\\\": 180,\\\n",
    "    \\\"body_mass_g\\\": 3600,\\\n",
    "    \\\"sex\\\": \\\"Male\\\"\\\n",
    "}\" "
   ]
  },
  {
   "cell_type": "code",
   "execution_count": 85,
   "metadata": {},
   "outputs": [
    {
     "name": "stdout",
     "output_type": "stream",
     "text": [
      "{\n",
      "  \"penguin\": \"Gentoo\",\n",
      "  \"probabilitat\": 0.9723466435022792\n",
      "}\n"
     ]
    }
   ],
   "source": [
    "!curl --request POST \"http://127.0.0.1:8000/predict_lr\" \\\n",
    "--header \"Content-Type: application/json\" \\\n",
    "--data-raw \"{\\\n",
    "    \\\"island\\\": \\\"Biscoe\\\",\\\n",
    "    \\\"bill_length_mm\\\": 50,\\\n",
    "    \\\"bill_depth_mm\\\": 14,\\\n",
    "    \\\"flipper_length_mm\\\": 215,\\\n",
    "    \\\"body_mass_g\\\": 4000,\\\n",
    "    \\\"sex\\\": \\\"Male\\\"\\\n",
    "}\" "
   ]
  },
  {
   "cell_type": "code",
   "execution_count": 86,
   "metadata": {},
   "outputs": [
    {
     "name": "stdout",
     "output_type": "stream",
     "text": [
      "{\n",
      "  \"penguin\": \"Gentoo\",\n",
      "  \"probabilitat\": 0.9739808793790596\n",
      "}\n"
     ]
    }
   ],
   "source": [
    "!curl --request POST \"http://127.0.0.1:8000/predict_svm\" \\\n",
    "--header \"Content-Type: application/json\" \\\n",
    "--data-raw \"{\\\n",
    "    \\\"island\\\": \\\"Biscoe\\\",\\\n",
    "    \\\"bill_length_mm\\\": 50,\\\n",
    "    \\\"bill_depth_mm\\\": 14,\\\n",
    "    \\\"flipper_length_mm\\\": 215,\\\n",
    "    \\\"body_mass_g\\\": 4000,\\\n",
    "    \\\"sex\\\": \\\"Male\\\"\\\n",
    "}\" "
   ]
  },
  {
   "cell_type": "code",
   "execution_count": 87,
   "metadata": {},
   "outputs": [
    {
     "name": "stdout",
     "output_type": "stream",
     "text": [
      "{\n",
      "  \"penguin\": \"Gentoo\",\n",
      "  \"probabilitat\": 1.0\n",
      "}\n"
     ]
    }
   ],
   "source": [
    "!curl --request POST \"http://127.0.0.1:8000/predict_dt\" \\\n",
    "--header \"Content-Type: application/json\" \\\n",
    "--data-raw \"{\\\n",
    "    \\\"island\\\": \\\"Biscoe\\\",\\\n",
    "    \\\"bill_length_mm\\\": 50,\\\n",
    "    \\\"bill_depth_mm\\\": 14,\\\n",
    "    \\\"flipper_length_mm\\\": 215,\\\n",
    "    \\\"body_mass_g\\\": 4000,\\\n",
    "    \\\"sex\\\": \\\"Male\\\"\\\n",
    "}\" "
   ]
  },
  {
   "cell_type": "code",
   "execution_count": 88,
   "metadata": {},
   "outputs": [
    {
     "name": "stdout",
     "output_type": "stream",
     "text": [
      "{\n",
      "  \"penguin\": \"Gentoo\",\n",
      "  \"probabilitat\": 1.0\n",
      "}\n"
     ]
    }
   ],
   "source": [
    "!curl --request POST \"http://127.0.0.1:8000/predict_knn\" \\\n",
    "--header \"Content-Type: application/json\" \\\n",
    "--data-raw \"{\\\n",
    "    \\\"island\\\": \\\"Biscoe\\\",\\\n",
    "    \\\"bill_length_mm\\\": 50,\\\n",
    "    \\\"bill_depth_mm\\\": 14,\\\n",
    "    \\\"flipper_length_mm\\\": 215,\\\n",
    "    \\\"body_mass_g\\\": 4000,\\\n",
    "    \\\"sex\\\": \\\"Male\\\"\\\n",
    "}\" "
   ]
  }
 ],
 "metadata": {
  "kernelspec": {
   "display_name": "penguins-A84l9Ume-py3.10",
   "language": "python",
   "name": "python3"
  },
  "language_info": {
   "codemirror_mode": {
    "name": "ipython",
    "version": 3
   },
   "file_extension": ".py",
   "mimetype": "text/x-python",
   "name": "python",
   "nbconvert_exporter": "python",
   "pygments_lexer": "ipython3",
   "version": "3.10.12"
  }
 },
 "nbformat": 4,
 "nbformat_minor": 2
}
